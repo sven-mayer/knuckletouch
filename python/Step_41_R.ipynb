{
 "cells": [
  {
   "cell_type": "code",
   "execution_count": 7,
   "metadata": {},
   "outputs": [
    {
     "data": {
      "text/plain": [
       "\n",
       "\tFriedman rank sum test\n",
       "\n",
       "data:  Score and Task and ID\n",
       "Friedman chi-squared = 12, df = 1, p-value = 0.000532\n"
      ]
     },
     "metadata": {},
     "output_type": "display_data"
    }
   ],
   "source": [
    "df = read.csv(\"./DataStudyEvaluation/R_TLX.csv\")\n",
    "df$ID <- factor(df$ID)\n",
    "df$Task <- factor(df$Task)\n",
    "friedman.test(Score ~ Task | ID, data = df)"
   ]
  },
  {
   "cell_type": "code",
   "execution_count": 8,
   "metadata": {},
   "outputs": [
    {
     "data": {
      "text/plain": [
       "\n",
       "\tFriedman rank sum test\n",
       "\n",
       "data:  Score and Task and ID\n",
       "Friedman chi-squared = 8.3333, df = 1, p-value = 0.003892\n"
      ]
     },
     "metadata": {},
     "output_type": "display_data"
    }
   ],
   "source": [
    "df = read.csv(\"./DataStudyEvaluation/R_SUS.csv\")\n",
    "df$ID <- factor(df$ID)\n",
    "df$Task <- factor(df$Task)\n",
    "friedman.test(Score ~ Task | ID, data = df)"
   ]
  },
  {
   "cell_type": "code",
   "execution_count": 6,
   "metadata": {},
   "outputs": [
    {
     "data": {
      "text/plain": [
       "\n",
       "\tFriedman rank sum test\n",
       "\n",
       "data:  Easiness and Task and ID\n",
       "Friedman chi-squared = 8.3333, df = 1, p-value = 0.003892\n"
      ]
     },
     "metadata": {},
     "output_type": "display_data"
    },
    {
     "data": {
      "text/plain": [
       "\n",
       "\tFriedman rank sum test\n",
       "\n",
       "data:  Speed and Task and ID\n",
       "Friedman chi-squared = 12, df = 1, p-value = 0.000532\n"
      ]
     },
     "metadata": {},
     "output_type": "display_data"
    },
    {
     "data": {
      "text/plain": [
       "\n",
       "\tFriedman rank sum test\n",
       "\n",
       "data:  Success and Task and ID\n",
       "Friedman chi-squared = 6.4, df = 1, p-value = 0.01141\n"
      ]
     },
     "metadata": {},
     "output_type": "display_data"
    },
    {
     "data": {
      "text/plain": [
       "\n",
       "\tFriedman rank sum test\n",
       "\n",
       "data:  Accuracy and Task and ID\n",
       "Friedman chi-squared = 11, df = 1, p-value = 0.0009111\n"
      ]
     },
     "metadata": {},
     "output_type": "display_data"
    },
    {
     "data": {
      "text/plain": [
       "\n",
       "\tFriedman rank sum test\n",
       "\n",
       "data:  Comfort and Task and ID\n",
       "Friedman chi-squared = 12, df = 1, p-value = 0.000532\n"
      ]
     },
     "metadata": {},
     "output_type": "display_data"
    }
   ],
   "source": [
    "df = read.csv(\"./DataStudyEvaluation/R_Quest.csv\")\n",
    "df$ID <- factor(df$ID)\n",
    "df$Task <- factor(df$Task)\n",
    "friedman.test(Easiness ~ Task | ID, data = df)\n",
    "friedman.test(Speed ~ Task | ID, data = df)\n",
    "friedman.test(Success ~ Task | ID, data = df)\n",
    "friedman.test(Accuracy ~ Task | ID, data = df)\n",
    "friedman.test(Comfort ~ Task | ID, data = df)"
   ]
  },
  {
   "cell_type": "code",
   "execution_count": null,
   "metadata": {},
   "outputs": [],
   "source": []
  }
 ],
 "metadata": {
  "kernelspec": {
   "display_name": "R",
   "language": "R",
   "name": "ir"
  },
  "language_info": {
   "codemirror_mode": "r",
   "file_extension": ".r",
   "mimetype": "text/x-r-source",
   "name": "R",
   "pygments_lexer": "r",
   "version": "3.5.3"
  }
 },
 "nbformat": 4,
 "nbformat_minor": 2
}
